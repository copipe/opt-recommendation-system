{
 "cells": [
  {
   "cell_type": "code",
   "execution_count": 1,
   "id": "f43dd5df-2c59-47c1-9009-783987fe8a03",
   "metadata": {},
   "outputs": [],
   "source": [
    "%load_ext autoreload\n",
    "%autoreload 2\n",
    "import sys\n",
    "from pathlib import Path\n",
    "import pandas as pd\n",
    "import cudf\n",
    "import cupy as cp\n",
    "import numpy as np\n",
    "from tqdm import tqdm\n",
    "\n",
    "sys.path.append('../')\n",
    "from src.retriever import PopularItem, FavoriteItem, CoOccurrenceItem, ConcatRetriever\n",
    "from src.utils import get_data_period, period_extraction"
   ]
  },
  {
   "cell_type": "code",
   "execution_count": 2,
   "id": "fa2e2b0b-e528-47ce-a4d0-e499a2dae0f8",
   "metadata": {},
   "outputs": [],
   "source": [
    "TRAIN_PATH = '../data/processed/train.csv'\n",
    "COOCCURRENCE_DIR = Path('../data/retriever/co-occurrence/')\n",
    "EXP_NO = 'exp006'\n",
    "OUTPUT_DIR = Path(f'../data/{EXP_NO}')\n",
    "\n",
    "date_th_list = ['2017-04-16', '2017-04-23', '2017-04-30']\n",
    "train_flag_list = [True, True, False]\n",
    "train_period = 14\n",
    "eval_period = 7\n",
    "top_n = 100"
   ]
  },
  {
   "cell_type": "code",
   "execution_count": 3,
   "id": "dd7ba813-b267-4bd9-afdb-7e5e0c77432c",
   "metadata": {},
   "outputs": [
    {
     "name": "stdout",
     "output_type": "stream",
     "text": [
      "==================================================\n",
      "# date_th=2017-04-16, train_flag=True\n",
      "[ConcatRetriever] n=12,011, n_items=100.0 max_ndcg=0.5012, recall=0.3774, precision=0.0357\n",
      "==================================================\n",
      "# date_th=2017-04-23, train_flag=True\n",
      "[ConcatRetriever] n=11,501, n_items=100.0 max_ndcg=0.4905, recall=0.3706, precision=0.0352\n",
      "==================================================\n",
      "# date_th=2017-04-30, train_flag=False\n"
     ]
    }
   ],
   "source": [
    "OUTPUT_DIR.mkdir(parents=True, exist_ok=True)\n",
    "df = cudf.read_csv(TRAIN_PATH, parse_dates=['time_stamp'])\n",
    "for date_th, train_flag in zip(date_th_list, train_flag_list):\n",
    "    print('='*50)\n",
    "    print(f'# date_th={date_th}, train_flag={train_flag}')\n",
    "    \n",
    "    train_start, train_end, eval_start, eval_end = get_data_period(date_th, train_period, eval_period)\n",
    "    \n",
    "    config_common = {\n",
    "        'train_start_date': train_start,\n",
    "        'train_end_date': train_end,\n",
    "        'eval_start_date': eval_start,\n",
    "        'eval_end_date': eval_end,\n",
    "        \n",
    "    }\n",
    "    \n",
    "    config_popular = {**config_common, 'top_n': 100}\n",
    "    \n",
    "    config_favorite = {**config_common, 'top_n': 100}\n",
    "    \n",
    "    config_cooccurrence = {\n",
    "        **config_common,\n",
    "        'top_n': 200,\n",
    "        'output_path': COOCCURRENCE_DIR/ f'co-occurrence_{date_th}_t{train_period}_e{eval_period}_n{top_n}.pickle',\n",
    "    }\n",
    "    \n",
    "    config_concat = {\n",
    "        **config_common,\n",
    "        'top_n': 100,\n",
    "        'retrievers': [\n",
    "            FavoriteItem(**config_favorite),\n",
    "            CoOccurrenceItem(**config_cooccurrence),\n",
    "            PopularItem(**config_popular),\n",
    "        ]\n",
    "    }\n",
    "    \n",
    "    retriever = ConcatRetriever(**config_concat)\n",
    "    retriever.fit(df)\n",
    "    \n",
    "    if train_flag:\n",
    "        users = period_extraction(df, eval_start, eval_end)['user_id'].unique().to_arrow().tolist()\n",
    "        retriever.search(users)\n",
    "        scores = retriever.evaluate(df, verbose=True)\n",
    "        pairs = retriever.get_pairs(df)\n",
    "    else:\n",
    "        users = pd.read_csv('../data/raw/test.tsv', delimiter='\\t')['user_id'].tolist()\n",
    "        retriever.search(users)\n",
    "        pairs = retriever.get_pairs(df, target=False)\n",
    "        \n",
    "    filename = OUTPUT_DIR/f'pairs_{date_th}_t{train_period}_e{eval_period}_n{top_n}.csv'\n",
    "    pairs.to_csv(filename, index=False)"
   ]
  },
  {
   "cell_type": "code",
   "execution_count": null,
   "id": "e31be528-172c-4697-bda4-ea2e73201dc2",
   "metadata": {},
   "outputs": [],
   "source": []
  },
  {
   "cell_type": "code",
   "execution_count": null,
   "id": "cae3b180-3b8b-412a-8f14-0daa0bb3d702",
   "metadata": {},
   "outputs": [],
   "source": []
  }
 ],
 "metadata": {
  "kernelspec": {
   "display_name": "Python 3 (ipykernel)",
   "language": "python",
   "name": "python3"
  },
  "language_info": {
   "codemirror_mode": {
    "name": "ipython",
    "version": 3
   },
   "file_extension": ".py",
   "mimetype": "text/x-python",
   "name": "python",
   "nbconvert_exporter": "python",
   "pygments_lexer": "ipython3",
   "version": "3.9.13"
  }
 },
 "nbformat": 4,
 "nbformat_minor": 5
}
