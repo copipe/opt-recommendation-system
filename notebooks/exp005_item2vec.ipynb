{
 "cells": [
  {
   "cell_type": "code",
   "execution_count": 1,
   "id": "cc148691-df18-49d3-aa73-d80da2151354",
   "metadata": {},
   "outputs": [],
   "source": [
    "%load_ext autoreload\n",
    "%autoreload 2\n",
    "import sys\n",
    "from pathlib import Path\n",
    "import pickle\n",
    "import pandas as pd\n",
    "import cudf\n",
    "import numpy as np\n",
    "import matplotlib.pyplot as plt\n",
    "from gensim.models import word2vec\n",
    "from sklearn.manifold import TSNE\n",
    "from sklearn.cluster import BisectingKMeans"
   ]
  },
  {
   "cell_type": "code",
   "execution_count": 2,
   "id": "5561af35-f804-4d0c-8223-dc126f53b3ad",
   "metadata": {},
   "outputs": [],
   "source": [
    "EXP_NO = 'exp005'\n",
    "TRAIN_PATH = '../data/processed/train.csv'\n",
    "OUTPUT_DIR = Path(f'../model/item2vec/{EXP_NO}')\n",
    "OUTPUT_DIR.mkdir(parents=True, exist_ok=True)\n",
    "CATEGORY_TYPES = [\"A\", \"B\", \"C\", \"D\"]"
   ]
  },
  {
   "cell_type": "code",
   "execution_count": 3,
   "id": "3fff0102-0434-4266-951b-0137406de8c6",
   "metadata": {},
   "outputs": [],
   "source": [
    "df = cudf.read_csv(TRAIN_PATH, parse_dates=['time_stamp']).to_pandas()\n",
    "\n",
    "all_product_ids = df['product_id'].unique()\n",
    "df = df[df['event_type']>0]\n",
    "df = df.sort_values(['user_id', 'time_stamp']).reset_index(drop=True)"
   ]
  },
  {
   "cell_type": "code",
   "execution_count": 4,
   "id": "aed2269b-5f8d-4cc2-9feb-8981b6a83e6e",
   "metadata": {},
   "outputs": [
    {
     "name": "stdout",
     "output_type": "stream",
     "text": [
      "vectors.shape: (13383, 64)\n",
      "vectors.shape: (14141, 64)\n",
      "vectors.shape: (94331, 64)\n",
      "vectors.shape: (44374, 64)\n"
     ]
    }
   ],
   "source": [
    "for category in CATEGORY_TYPES:\n",
    "    df_ = df[df['category'] == category]\n",
    "    favorite_items = df_.groupby('user_id').agg({'product_id': list}).reset_index()\n",
    "    \n",
    "    with open(OUTPUT_DIR/f'items_{category}.txt', 'w') as f:\n",
    "        for user_id, items in favorite_items.values:\n",
    "            items = [items[i] for i in range(len(items)) if i==0 or items[i] != items[i-1]]\n",
    "            f.write(' '.join(items) + '\\n')\n",
    "            \n",
    "    sentences = word2vec.LineSentence(OUTPUT_DIR/f'items_{category}.txt')\n",
    "    model = word2vec.Word2Vec(sentences, vector_size=64, epochs=20, window=5, min_count=5, seed=0, workers=8)\n",
    "    print(f'vectors.shape: {model.wv.vectors.shape}')\n",
    "    with open(OUTPUT_DIR/f'item2vec_{category}.pickle', 'wb') as f:\n",
    "        pickle.dump(model, f)"
   ]
  },
  {
   "cell_type": "code",
   "execution_count": 13,
   "id": "f0d82e0f-36f0-446a-b7c6-822e7625a443",
   "metadata": {},
   "outputs": [],
   "source": [
    "item_cluster = []\n",
    "for i, category in enumerate(CATEGORY_TYPES):\n",
    "    with open(OUTPUT_DIR/f'item2vec_{category}.pickle', 'rb') as f:\n",
    "        model = pickle.load(f)\n",
    "        \n",
    "    vectors = model.wv.vectors\n",
    "    item_names = model.wv.index_to_key\n",
    "    categories = np.array(list(map(lambda s: s.split('_')[1], item_names)))\n",
    "    \n",
    "    k = 20\n",
    "    vectors = vectors / np.linalg.norm(vectors).reshape(-1, 1)\n",
    "    kmeans = BisectingKMeans(n_clusters=k, bisecting_strategy='largest_cluster', random_state=0)\n",
    "    C = kmeans.fit_predict(vectors)\n",
    "    item_cluster += list(zip(item_names, C))\n",
    "    \n",
    "    with open(OUTPUT_DIR/f'kmeans_{category}.pickle', 'wb') as f:\n",
    "        pickle.dump(kmeans, f)\n",
    "    \n",
    "    #print(pd.Series(C).value_counts())\n",
    "    #n = 20 if category in ['A', 'B'] else 200\n",
    "    #vectors = vectors[::n]\n",
    "    #item_names = item_names[::n]\n",
    "    #categories = categories[::n]\n",
    "    #C = C[::n]\n",
    "    #\n",
    "    #tsne = TSNE(perplexity=5)\n",
    "    #Z = tsne.fit_transform(vectors)\n",
    "    #\n",
    "    #for c in range(kmeans.n_clusters):\n",
    "    #    idx = C==c\n",
    "    #    plt.scatter(Z[idx, 0], Z[idx, 1], s=3)\n",
    "    #plt.show()"
   ]
  },
  {
   "cell_type": "code",
   "execution_count": 10,
   "id": "be16fc6d-bf1e-43d5-8fbc-b8b86c473be3",
   "metadata": {},
   "outputs": [],
   "source": [
    "item_cluster = pd.DataFrame(item_cluster, columns=['product_id', 'cluster_id'])\n",
    "rare_items = list(set(all_product_ids) - set(item_cluster['product_id']))\n",
    "rare_items = pd.DataFrame({'product_id':rare_items, 'cluster_id':-1})\n",
    "item_cluster = pd.concat([item_cluster, rare_items]).reset_index(drop=True)\n",
    "item_cluster.to_csv(OUTPUT_DIR/'item_cluster.csv', index=False)"
   ]
  },
  {
   "cell_type": "code",
   "execution_count": 11,
   "id": "a1bd4764-a854-407c-b146-22ac40f5aaaf",
   "metadata": {},
   "outputs": [
    {
     "data": {
      "text/html": [
       "<div>\n",
       "<style scoped>\n",
       "    .dataframe tbody tr th:only-of-type {\n",
       "        vertical-align: middle;\n",
       "    }\n",
       "\n",
       "    .dataframe tbody tr th {\n",
       "        vertical-align: top;\n",
       "    }\n",
       "\n",
       "    .dataframe thead th {\n",
       "        text-align: right;\n",
       "    }\n",
       "</style>\n",
       "<table border=\"1\" class=\"dataframe\">\n",
       "  <thead>\n",
       "    <tr style=\"text-align: right;\">\n",
       "      <th></th>\n",
       "      <th>product_id</th>\n",
       "      <th>cluster_id</th>\n",
       "    </tr>\n",
       "  </thead>\n",
       "  <tbody>\n",
       "    <tr>\n",
       "      <th>0</th>\n",
       "      <td>00013874_a</td>\n",
       "      <td>0</td>\n",
       "    </tr>\n",
       "    <tr>\n",
       "      <th>1</th>\n",
       "      <td>00005175_a</td>\n",
       "      <td>0</td>\n",
       "    </tr>\n",
       "    <tr>\n",
       "      <th>2</th>\n",
       "      <td>00001225_a</td>\n",
       "      <td>0</td>\n",
       "    </tr>\n",
       "    <tr>\n",
       "      <th>3</th>\n",
       "      <td>00001943_a</td>\n",
       "      <td>0</td>\n",
       "    </tr>\n",
       "    <tr>\n",
       "      <th>4</th>\n",
       "      <td>00001429_a</td>\n",
       "      <td>0</td>\n",
       "    </tr>\n",
       "  </tbody>\n",
       "</table>\n",
       "</div>"
      ],
      "text/plain": [
       "   product_id  cluster_id\n",
       "0  00013874_a           0\n",
       "1  00005175_a           0\n",
       "2  00001225_a           0\n",
       "3  00001943_a           0\n",
       "4  00001429_a           0"
      ]
     },
     "execution_count": 11,
     "metadata": {},
     "output_type": "execute_result"
    }
   ],
   "source": [
    "item_cluster.head()"
   ]
  }
 ],
 "metadata": {
  "kernelspec": {
   "display_name": "Python 3 (ipykernel)",
   "language": "python",
   "name": "python3"
  },
  "language_info": {
   "codemirror_mode": {
    "name": "ipython",
    "version": 3
   },
   "file_extension": ".py",
   "mimetype": "text/x-python",
   "name": "python",
   "nbconvert_exporter": "python",
   "pygments_lexer": "ipython3",
   "version": "3.9.13"
  }
 },
 "nbformat": 4,
 "nbformat_minor": 5
}
