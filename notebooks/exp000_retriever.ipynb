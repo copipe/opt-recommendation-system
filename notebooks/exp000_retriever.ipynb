{
 "cells": [
  {
   "cell_type": "code",
   "execution_count": 1,
   "id": "f43dd5df-2c59-47c1-9009-783987fe8a03",
   "metadata": {},
   "outputs": [],
   "source": [
    "%load_ext autoreload\n",
    "%autoreload 2\n",
    "import sys\n",
    "from pathlib import Path\n",
    "import pandas as pd\n",
    "import cudf\n",
    "import cupy as cp\n",
    "import numpy as np\n",
    "from tqdm import tqdm\n",
    "\n",
    "sys.path.append('../')\n",
    "from src.retriever import PopularItem, FavoriteItem, CoOccurrenceItem, ConcatRetriever\n",
    "from src.utils import get_data_period, period_extraction"
   ]
  },
  {
   "cell_type": "code",
   "execution_count": 2,
   "id": "d1bbb5af-6de8-46b1-85ee-305343b81314",
   "metadata": {},
   "outputs": [],
   "source": [
    "df = cudf.read_csv('../data/processed/train.csv', parse_dates=['time_stamp'])"
   ]
  },
  {
   "cell_type": "code",
   "execution_count": 3,
   "id": "ea2c54a4-eae7-48d8-9ca6-be5352999f8a",
   "metadata": {},
   "outputs": [],
   "source": [
    "date_th = '2017-04-16'\n",
    "train_period = 7\n",
    "eval_period = 7\n",
    "top_n = 30\n",
    "\n",
    "train_start, train_end, eval_start, eval_end = get_data_period(date_th, train_period, eval_period)\n",
    "users = period_extraction(df, eval_start, eval_end)['user_id'].unique().to_arrow().tolist()"
   ]
  },
  {
   "cell_type": "code",
   "execution_count": 4,
   "id": "7c64db58-cd6a-48b0-bc41-ba61cd870769",
   "metadata": {},
   "outputs": [
    {
     "name": "stdout",
     "output_type": "stream",
     "text": [
      "[PopularItem] n=12,011, n_items=30.0 max_ndcg=0.1111, recall=0.0709, precision=0.0201\n"
     ]
    }
   ],
   "source": [
    "config_popular = {\n",
    "    'train_start_date': train_start,\n",
    "    'train_end_date': train_end,\n",
    "    'eval_start_date': eval_start,\n",
    "    'eval_end_date': eval_end,\n",
    "    'top_n': top_n\n",
    "}\n",
    "\n",
    "retriever = PopularItem(**config_popular)\n",
    "retriever.fit(df)\n",
    "retriever.search(users)\n",
    "scores = retriever.evaluate(df, verbose=True)"
   ]
  },
  {
   "cell_type": "code",
   "execution_count": 5,
   "id": "538ff46e-af7c-4bc6-b830-977731186fc9",
   "metadata": {},
   "outputs": [
    {
     "name": "stdout",
     "output_type": "stream",
     "text": [
      "[FavoriteItem] n=12,011, n_items=7.6 max_ndcg=0.2618, recall=0.1666, precision=0.1731\n"
     ]
    }
   ],
   "source": [
    "config_favorite = {\n",
    "    'train_start_date': train_start,\n",
    "    'train_end_date': train_end,\n",
    "    'eval_start_date': eval_start,\n",
    "    'eval_end_date': eval_end,\n",
    "    'top_n': top_n\n",
    "}\n",
    "\n",
    "retriever = FavoriteItem(**config_favorite)\n",
    "retriever.fit(df)\n",
    "retriever.search(users)\n",
    "scores = retriever.evaluate(df, verbose=True)"
   ]
  },
  {
   "cell_type": "code",
   "execution_count": 6,
   "id": "d97f6158-ec19-4eca-83f8-817af529bc5d",
   "metadata": {},
   "outputs": [
    {
     "name": "stderr",
     "output_type": "stream",
     "text": [
      "100%|█████████████████████████████████████████████████████████████████████████████████████████████████████████████████████████████████████████████| 295610/295610 [1:42:27<00:00, 48.08it/s]\n"
     ]
    },
    {
     "name": "stdout",
     "output_type": "stream",
     "text": [
      "[CoOccurrenceItem] n=12,011, n_items=23.2 max_ndcg=0.1935, recall=0.1370, precision=0.0434\n"
     ]
    }
   ],
   "source": [
    "config_cooccurrence = {\n",
    "    'train_start_date': train_start,\n",
    "    'train_end_date': train_end,\n",
    "    'eval_start_date': eval_start,\n",
    "    'eval_end_date': eval_end,\n",
    "    'top_n': top_n,\n",
    "    'output_path': Path(f'co-occurrence_{date_th}_t{train_period}_e{eval_period}_n{top_n}.pickle'),\n",
    "}\n",
    "\n",
    "retriever = CoOccurrenceItem(**config_cooccurrence)\n",
    "retriever.fit(df)\n",
    "retriever.search(users)\n",
    "scores = retriever.evaluate(df, verbose=True)"
   ]
  },
  {
   "cell_type": "code",
   "execution_count": 7,
   "id": "d2a4f5b7-e9bd-44e4-abcf-4c0cacc279e1",
   "metadata": {},
   "outputs": [
    {
     "name": "stdout",
     "output_type": "stream",
     "text": [
      "[ConcatRetriever] n=12,011, n_items=30.0 max_ndcg=0.3645, recall=0.2508, precision=0.0708\n"
     ]
    },
    {
     "data": {
      "text/html": [
       "<div>\n",
       "<style scoped>\n",
       "    .dataframe tbody tr th:only-of-type {\n",
       "        vertical-align: middle;\n",
       "    }\n",
       "\n",
       "    .dataframe tbody tr th {\n",
       "        vertical-align: top;\n",
       "    }\n",
       "\n",
       "    .dataframe thead th {\n",
       "        text-align: right;\n",
       "    }\n",
       "</style>\n",
       "<table border=\"1\" class=\"dataframe\">\n",
       "  <thead>\n",
       "    <tr style=\"text-align: right;\">\n",
       "      <th></th>\n",
       "      <th>user_id</th>\n",
       "      <th>product_id</th>\n",
       "      <th>target</th>\n",
       "      <th>rated</th>\n",
       "    </tr>\n",
       "  </thead>\n",
       "  <tbody>\n",
       "    <tr>\n",
       "      <th>0</th>\n",
       "      <td>0000019_B</td>\n",
       "      <td>00012052_b</td>\n",
       "      <td>0</td>\n",
       "      <td>0</td>\n",
       "    </tr>\n",
       "    <tr>\n",
       "      <th>1</th>\n",
       "      <td>0000019_B</td>\n",
       "      <td>00012487_b</td>\n",
       "      <td>0</td>\n",
       "      <td>0</td>\n",
       "    </tr>\n",
       "    <tr>\n",
       "      <th>2</th>\n",
       "      <td>0000019_B</td>\n",
       "      <td>00001760_b</td>\n",
       "      <td>0</td>\n",
       "      <td>0</td>\n",
       "    </tr>\n",
       "    <tr>\n",
       "      <th>3</th>\n",
       "      <td>0000019_B</td>\n",
       "      <td>00003917_b</td>\n",
       "      <td>0</td>\n",
       "      <td>0</td>\n",
       "    </tr>\n",
       "    <tr>\n",
       "      <th>4</th>\n",
       "      <td>0000019_B</td>\n",
       "      <td>00013563_b</td>\n",
       "      <td>0</td>\n",
       "      <td>0</td>\n",
       "    </tr>\n",
       "  </tbody>\n",
       "</table>\n",
       "</div>"
      ],
      "text/plain": [
       "     user_id  product_id  target  rated\n",
       "0  0000019_B  00012052_b       0      0\n",
       "1  0000019_B  00012487_b       0      0\n",
       "2  0000019_B  00001760_b       0      0\n",
       "3  0000019_B  00003917_b       0      0\n",
       "4  0000019_B  00013563_b       0      0"
      ]
     },
     "execution_count": 7,
     "metadata": {},
     "output_type": "execute_result"
    }
   ],
   "source": [
    "retrievers = [\n",
    "    FavoriteItem(**config_favorite),\n",
    "    CoOccurrenceItem(**config_cooccurrence),\n",
    "    PopularItem(**config_popular),\n",
    "]\n",
    "config_concat = {\n",
    "    'train_start_date': train_start,\n",
    "    'train_end_date': train_end,\n",
    "    'eval_start_date': eval_start,\n",
    "    'eval_end_date': eval_end,\n",
    "    'top_n': top_n,\n",
    "    'retrievers': retrievers,\n",
    "}\n",
    "\n",
    "retriever = ConcatRetriever(**config_concat)\n",
    "retriever.fit(df)\n",
    "retriever.search(users)\n",
    "scores = retriever.evaluate(df, verbose=True)\n",
    "\n",
    "pairs = retriever.get_pairs(df)\n",
    "filename = f'pairs_{date_th}_t{train_period}_e{eval_period}_n{top_n}.csv'\n",
    "pairs.to_csv(filename, index=False)\n",
    "pairs.head()"
   ]
  },
  {
   "cell_type": "code",
   "execution_count": 11,
   "id": "4f4d114f-8ef6-48e9-9d8d-0b1662973492",
   "metadata": {},
   "outputs": [],
   "source": []
  },
  {
   "cell_type": "code",
   "execution_count": 12,
   "id": "83c6fa32-2411-438d-851c-4631fb1c534d",
   "metadata": {},
   "outputs": [
    {
     "data": {
      "text/html": [
       "<div>\n",
       "<style scoped>\n",
       "    .dataframe tbody tr th:only-of-type {\n",
       "        vertical-align: middle;\n",
       "    }\n",
       "\n",
       "    .dataframe tbody tr th {\n",
       "        vertical-align: top;\n",
       "    }\n",
       "\n",
       "    .dataframe thead th {\n",
       "        text-align: right;\n",
       "    }\n",
       "</style>\n",
       "<table border=\"1\" class=\"dataframe\">\n",
       "  <thead>\n",
       "    <tr style=\"text-align: right;\">\n",
       "      <th></th>\n",
       "      <th>user_id</th>\n",
       "      <th>product_id</th>\n",
       "      <th>target</th>\n",
       "      <th>rated</th>\n",
       "    </tr>\n",
       "  </thead>\n",
       "  <tbody>\n",
       "    <tr>\n",
       "      <th>0</th>\n",
       "      <td>0028734_A</td>\n",
       "      <td>00009492_a</td>\n",
       "      <td>0</td>\n",
       "      <td>0</td>\n",
       "    </tr>\n",
       "    <tr>\n",
       "      <th>1</th>\n",
       "      <td>0028734_A</td>\n",
       "      <td>00009413_a</td>\n",
       "      <td>0</td>\n",
       "      <td>0</td>\n",
       "    </tr>\n",
       "    <tr>\n",
       "      <th>2</th>\n",
       "      <td>0028734_A</td>\n",
       "      <td>00002511_a</td>\n",
       "      <td>0</td>\n",
       "      <td>0</td>\n",
       "    </tr>\n",
       "    <tr>\n",
       "      <th>3</th>\n",
       "      <td>0028734_A</td>\n",
       "      <td>00010901_a</td>\n",
       "      <td>0</td>\n",
       "      <td>0</td>\n",
       "    </tr>\n",
       "    <tr>\n",
       "      <th>4</th>\n",
       "      <td>0028734_A</td>\n",
       "      <td>00012717_a</td>\n",
       "      <td>0</td>\n",
       "      <td>0</td>\n",
       "    </tr>\n",
       "  </tbody>\n",
       "</table>\n",
       "</div>"
      ],
      "text/plain": [
       "     user_id  product_id  target  rated\n",
       "0  0028734_A  00009492_a       0      0\n",
       "1  0028734_A  00009413_a       0      0\n",
       "2  0028734_A  00002511_a       0      0\n",
       "3  0028734_A  00010901_a       0      0\n",
       "4  0028734_A  00012717_a       0      0"
      ]
     },
     "execution_count": 12,
     "metadata": {},
     "output_type": "execute_result"
    }
   ],
   "source": [
    "date_th = '2017-04-30'\n",
    "train_period = 7\n",
    "eval_period = 7\n",
    "top_n = 30\n",
    "\n",
    "train_start, train_end, eval_start, eval_end = get_data_period(date_th, train_period, eval_period)\n",
    "users = period_extraction(df, eval_start, eval_end)['user_id'].unique().to_arrow().tolist()\n",
    "\n",
    "\n",
    "test_users = pd.read_csv('../data/raw/test.tsv', delimiter='\\t')['user_id'].tolist()\n",
    "\n",
    "retrievers = [\n",
    "    FavoriteItem(**config_favorite),\n",
    "    CoOccurrenceItem(**config_cooccurrence),\n",
    "    PopularItem(**config_popular),\n",
    "]\n",
    "config_concat = {\n",
    "    'train_start_date': train_start,\n",
    "    'train_end_date': train_end,\n",
    "    'eval_start_date': eval_start,\n",
    "    'eval_end_date': eval_end,\n",
    "    'top_n': top_n,\n",
    "    'retrievers': retrievers,\n",
    "}\n",
    "\n",
    "retriever = ConcatRetriever(**config_concat)\n",
    "retriever.fit(df)\n",
    "retriever.search(test_users)\n",
    "#scores = retriever.evaluate(df, verbose=True)\n",
    "\n",
    "pairs = retriever.get_pairs(df)\n",
    "filename = f'test_pairs_{date_th}_t{train_period}_e{eval_period}_n{top_n}.csv'\n",
    "pairs.to_csv(filename, index=False)\n",
    "pairs.head()"
   ]
  },
  {
   "cell_type": "code",
   "execution_count": null,
   "id": "23b3a730-fe3d-4f3b-a69f-7e32e3ca83ca",
   "metadata": {},
   "outputs": [],
   "source": []
  }
 ],
 "metadata": {
  "kernelspec": {
   "display_name": "Python 3 (ipykernel)",
   "language": "python",
   "name": "python3"
  },
  "language_info": {
   "codemirror_mode": {
    "name": "ipython",
    "version": 3
   },
   "file_extension": ".py",
   "mimetype": "text/x-python",
   "name": "python",
   "nbconvert_exporter": "python",
   "pygments_lexer": "ipython3",
   "version": "3.9.13"
  }
 },
 "nbformat": 4,
 "nbformat_minor": 5
}
