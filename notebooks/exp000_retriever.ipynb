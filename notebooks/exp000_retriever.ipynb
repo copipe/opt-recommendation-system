{
 "cells": [
  {
   "cell_type": "code",
   "execution_count": 1,
   "id": "f43dd5df-2c59-47c1-9009-783987fe8a03",
   "metadata": {},
   "outputs": [],
   "source": [
    "%load_ext autoreload\n",
    "%autoreload 2\n",
    "import sys\n",
    "from pathlib import Path\n",
    "import pandas as pd\n",
    "import cudf\n",
    "import cupy as cp\n",
    "import numpy as np\n",
    "from tqdm import tqdm\n",
    "\n",
    "sys.path.append('../')\n",
    "from src.retriever import PopularItem, FavoriteItem, CoOccurrenceItem, ConcatRetriever\n",
    "from src.utils import get_data_period, period_extraction"
   ]
  },
  {
   "cell_type": "code",
   "execution_count": 2,
   "id": "d1bbb5af-6de8-46b1-85ee-305343b81314",
   "metadata": {},
   "outputs": [],
   "source": [
    "df = cudf.read_csv('../data/processed/train.csv', parse_dates=['time_stamp'])"
   ]
  },
  {
   "cell_type": "code",
   "execution_count": 3,
   "id": "ea2c54a4-eae7-48d8-9ca6-be5352999f8a",
   "metadata": {},
   "outputs": [],
   "source": [
    "date_th = '2017-04-09'\n",
    "train_period = 7\n",
    "eval_period = 7\n",
    "top_n = 30\n",
    "\n",
    "train_start, train_end, eval_start, eval_end = get_data_period(date_th, train_period, eval_period)\n",
    "users = period_extraction(df, eval_start, eval_end)['user_id'].unique().to_arrow().tolist()"
   ]
  },
  {
   "cell_type": "code",
   "execution_count": 4,
   "id": "7c64db58-cd6a-48b0-bc41-ba61cd870769",
   "metadata": {},
   "outputs": [
    {
     "name": "stdout",
     "output_type": "stream",
     "text": [
      "[PopularItem] n=12,503, n_items=30.0 max_ndcg=0.1200, recall=0.0785, precision=0.0228\n"
     ]
    }
   ],
   "source": [
    "config_popular = {\n",
    "    'train_start_date': train_start,\n",
    "    'train_end_date': train_end,\n",
    "    'eval_start_date': eval_start,\n",
    "    'eval_end_date': eval_end,\n",
    "    'top_n': top_n\n",
    "}\n",
    "\n",
    "retriever = PopularItem(**config_popular)\n",
    "retriever.fit(df)\n",
    "retriever.search(users)\n",
    "scores = retriever.evaluate(df, verbose=True)"
   ]
  },
  {
   "cell_type": "code",
   "execution_count": 5,
   "id": "538ff46e-af7c-4bc6-b830-977731186fc9",
   "metadata": {},
   "outputs": [
    {
     "name": "stdout",
     "output_type": "stream",
     "text": [
      "[FavoriteItem] n=12,503, n_items=8.0 max_ndcg=0.2741, recall=0.1755, precision=0.1736\n"
     ]
    }
   ],
   "source": [
    "config_favorite = {\n",
    "    'train_start_date': train_start,\n",
    "    'train_end_date': train_end,\n",
    "    'eval_start_date': eval_start,\n",
    "    'eval_end_date': eval_end,\n",
    "    'top_n': top_n\n",
    "}\n",
    "\n",
    "retriever = FavoriteItem(**config_favorite)\n",
    "retriever.fit(df)\n",
    "retriever.search(users)\n",
    "scores = retriever.evaluate(df, verbose=True)"
   ]
  },
  {
   "cell_type": "code",
   "execution_count": 6,
   "id": "d97f6158-ec19-4eca-83f8-817af529bc5d",
   "metadata": {},
   "outputs": [
    {
     "name": "stdout",
     "output_type": "stream",
     "text": [
      "[CoOccurrenceItem] n=12,503, n_items=23.2 max_ndcg=0.2000, recall=0.1431, precision=0.0442\n"
     ]
    }
   ],
   "source": [
    "config_cooccurrence = {\n",
    "    'train_start_date': train_start,\n",
    "    'train_end_date': train_end,\n",
    "    'eval_start_date': eval_start,\n",
    "    'eval_end_date': eval_end,\n",
    "    'top_n': top_n,\n",
    "    'output_path': Path(f'co-occurrence_{date_th}_t{train_period}_e{eval_period}_n{top_n}.pickle'),\n",
    "}\n",
    "\n",
    "retriever = CoOccurrenceItem(**config_cooccurrence)\n",
    "retriever.fit(df)\n",
    "retriever.search(users)\n",
    "scores = retriever.evaluate(df, verbose=True)"
   ]
  },
  {
   "cell_type": "code",
   "execution_count": 7,
   "id": "d2a4f5b7-e9bd-44e4-abcf-4c0cacc279e1",
   "metadata": {},
   "outputs": [
    {
     "name": "stdout",
     "output_type": "stream",
     "text": [
      "[ConcatRetriever] n=12,503, n_items=30.0 max_ndcg=0.3784, recall=0.2623, precision=0.0732\n"
     ]
    },
    {
     "data": {
      "text/html": [
       "<div>\n",
       "<style scoped>\n",
       "    .dataframe tbody tr th:only-of-type {\n",
       "        vertical-align: middle;\n",
       "    }\n",
       "\n",
       "    .dataframe tbody tr th {\n",
       "        vertical-align: top;\n",
       "    }\n",
       "\n",
       "    .dataframe thead th {\n",
       "        text-align: right;\n",
       "    }\n",
       "</style>\n",
       "<table border=\"1\" class=\"dataframe\">\n",
       "  <thead>\n",
       "    <tr style=\"text-align: right;\">\n",
       "      <th></th>\n",
       "      <th>user_id</th>\n",
       "      <th>product_id</th>\n",
       "      <th>target</th>\n",
       "      <th>rated</th>\n",
       "    </tr>\n",
       "  </thead>\n",
       "  <tbody>\n",
       "    <tr>\n",
       "      <th>0</th>\n",
       "      <td>0000029_C</td>\n",
       "      <td>00146634_c</td>\n",
       "      <td>0</td>\n",
       "      <td>0</td>\n",
       "    </tr>\n",
       "    <tr>\n",
       "      <th>1</th>\n",
       "      <td>0000029_C</td>\n",
       "      <td>00000312_c</td>\n",
       "      <td>0</td>\n",
       "      <td>0</td>\n",
       "    </tr>\n",
       "    <tr>\n",
       "      <th>2</th>\n",
       "      <td>0000029_C</td>\n",
       "      <td>00156487_c</td>\n",
       "      <td>0</td>\n",
       "      <td>0</td>\n",
       "    </tr>\n",
       "    <tr>\n",
       "      <th>3</th>\n",
       "      <td>0000029_C</td>\n",
       "      <td>00239358_c</td>\n",
       "      <td>0</td>\n",
       "      <td>0</td>\n",
       "    </tr>\n",
       "    <tr>\n",
       "      <th>4</th>\n",
       "      <td>0000029_C</td>\n",
       "      <td>00141797_c</td>\n",
       "      <td>0</td>\n",
       "      <td>0</td>\n",
       "    </tr>\n",
       "  </tbody>\n",
       "</table>\n",
       "</div>"
      ],
      "text/plain": [
       "     user_id  product_id  target  rated\n",
       "0  0000029_C  00146634_c       0      0\n",
       "1  0000029_C  00000312_c       0      0\n",
       "2  0000029_C  00156487_c       0      0\n",
       "3  0000029_C  00239358_c       0      0\n",
       "4  0000029_C  00141797_c       0      0"
      ]
     },
     "execution_count": 7,
     "metadata": {},
     "output_type": "execute_result"
    }
   ],
   "source": [
    "retrievers = [\n",
    "    FavoriteItem(**config_favorite),\n",
    "    CoOccurrenceItem(**config_cooccurrence),\n",
    "    PopularItem(**config_popular),\n",
    "]\n",
    "config_concat = {\n",
    "    'train_start_date': train_start,\n",
    "    'train_end_date': train_end,\n",
    "    'eval_start_date': eval_start,\n",
    "    'eval_end_date': eval_end,\n",
    "    'top_n': top_n,\n",
    "    'retrievers': retrievers,\n",
    "}\n",
    "\n",
    "retriever = ConcatRetriever(**config_concat)\n",
    "retriever.fit(df)\n",
    "retriever.search(users)\n",
    "scores = retriever.evaluate(df, verbose=True)\n",
    "\n",
    "pairs = retriever.get_pairs(df)\n",
    "filename = f'pairs_{date_th}_t{train_period}_e{eval_period}_n{top_n}.csv'\n",
    "pairs.to_csv(filename, index=False)\n",
    "pairs.head()"
   ]
  },
  {
   "cell_type": "code",
   "execution_count": 10,
   "id": "83c6fa32-2411-438d-851c-4631fb1c534d",
   "metadata": {},
   "outputs": [
    {
     "data": {
      "text/html": [
       "<div>\n",
       "<style scoped>\n",
       "    .dataframe tbody tr th:only-of-type {\n",
       "        vertical-align: middle;\n",
       "    }\n",
       "\n",
       "    .dataframe tbody tr th {\n",
       "        vertical-align: top;\n",
       "    }\n",
       "\n",
       "    .dataframe thead th {\n",
       "        text-align: right;\n",
       "    }\n",
       "</style>\n",
       "<table border=\"1\" class=\"dataframe\">\n",
       "  <thead>\n",
       "    <tr style=\"text-align: right;\">\n",
       "      <th></th>\n",
       "      <th>user_id</th>\n",
       "      <th>product_id</th>\n",
       "    </tr>\n",
       "  </thead>\n",
       "  <tbody>\n",
       "    <tr>\n",
       "      <th>0</th>\n",
       "      <td>0000008_A</td>\n",
       "      <td>00008092_a</td>\n",
       "    </tr>\n",
       "    <tr>\n",
       "      <th>1</th>\n",
       "      <td>0000008_A</td>\n",
       "      <td>00006560_a</td>\n",
       "    </tr>\n",
       "    <tr>\n",
       "      <th>2</th>\n",
       "      <td>0000008_A</td>\n",
       "      <td>00006259_a</td>\n",
       "    </tr>\n",
       "    <tr>\n",
       "      <th>3</th>\n",
       "      <td>0000008_A</td>\n",
       "      <td>00004596_a</td>\n",
       "    </tr>\n",
       "    <tr>\n",
       "      <th>4</th>\n",
       "      <td>0000008_A</td>\n",
       "      <td>00000269_a</td>\n",
       "    </tr>\n",
       "  </tbody>\n",
       "</table>\n",
       "</div>"
      ],
      "text/plain": [
       "     user_id  product_id\n",
       "0  0000008_A  00008092_a\n",
       "1  0000008_A  00006560_a\n",
       "2  0000008_A  00006259_a\n",
       "3  0000008_A  00004596_a\n",
       "4  0000008_A  00000269_a"
      ]
     },
     "execution_count": 10,
     "metadata": {},
     "output_type": "execute_result"
    }
   ],
   "source": [
    "date_th = '2017-04-30'\n",
    "train_period = 7\n",
    "eval_period = 7\n",
    "top_n = 30\n",
    "\n",
    "train_start, train_end, eval_start, eval_end = get_data_period(date_th, train_period, eval_period)\n",
    "\n",
    "config_popular = {\n",
    "    'train_start_date': train_start,\n",
    "    'train_end_date': train_end,\n",
    "    'eval_start_date': eval_start,\n",
    "    'eval_end_date': eval_end,\n",
    "    'top_n': top_n\n",
    "}\n",
    "\n",
    "config_favorite = {\n",
    "    'train_start_date': train_start,\n",
    "    'train_end_date': train_end,\n",
    "    'eval_start_date': eval_start,\n",
    "    'eval_end_date': eval_end,\n",
    "    'top_n': top_n\n",
    "}\n",
    "config_cooccurrence = {\n",
    "    'train_start_date': train_start,\n",
    "    'train_end_date': train_end,\n",
    "    'eval_start_date': eval_start,\n",
    "    'eval_end_date': eval_end,\n",
    "    'top_n': top_n,\n",
    "    'output_path': Path(f'co-occurrence_{date_th}_t{train_period}_e{eval_period}_n{top_n}.pickle'),\n",
    "}\n",
    "\n",
    "retrievers = [\n",
    "    FavoriteItem(**config_favorite),\n",
    "    CoOccurrenceItem(**config_cooccurrence),\n",
    "    PopularItem(**config_popular),\n",
    "]\n",
    "config_concat = {\n",
    "    'train_start_date': train_start,\n",
    "    'train_end_date': train_end,\n",
    "    'eval_start_date': eval_start,\n",
    "    'eval_end_date': eval_end,\n",
    "    'top_n': top_n,\n",
    "    'retrievers': retrievers,\n",
    "}\n",
    "\n",
    "test_users = pd.read_csv('../data/raw/test.tsv', delimiter='\\t')['user_id'].tolist()\n",
    "\n",
    "retriever = ConcatRetriever(**config_concat)\n",
    "retriever.fit(df)\n",
    "retriever.search(test_users)\n",
    "#scores = retriever.evaluate(df, verbose=True)\n",
    "\n",
    "pairs = retriever.get_pairs(df, target=False)\n",
    "filename = f'test_pairs_{date_th}_t{train_period}_e{eval_period}_n{top_n}.csv'\n",
    "pairs.to_csv(filename, index=False)\n",
    "pairs.head()"
   ]
  },
  {
   "cell_type": "code",
   "execution_count": null,
   "id": "1a5caf94-5e0e-4f44-b22e-5b8e2703e866",
   "metadata": {},
   "outputs": [],
   "source": []
  }
 ],
 "metadata": {
  "kernelspec": {
   "display_name": "Python 3 (ipykernel)",
   "language": "python",
   "name": "python3"
  },
  "language_info": {
   "codemirror_mode": {
    "name": "ipython",
    "version": 3
   },
   "file_extension": ".py",
   "mimetype": "text/x-python",
   "name": "python",
   "nbconvert_exporter": "python",
   "pygments_lexer": "ipython3",
   "version": "3.9.13"
  }
 },
 "nbformat": 4,
 "nbformat_minor": 5
}
