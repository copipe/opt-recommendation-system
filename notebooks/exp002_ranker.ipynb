{
 "cells": [
  {
   "cell_type": "code",
   "execution_count": 1,
   "id": "52759845-dbe3-49e5-abfd-31620ad22f89",
   "metadata": {},
   "outputs": [],
   "source": [
    "%load_ext autoreload\n",
    "%autoreload 2\n",
    "\n",
    "import cudf\n",
    "import pandas as pd\n",
    "import numpy as np\n",
    "\n",
    "from src.ranker import LGBModel\n",
    "from src.utils import period_extraction, get_data_period\n",
    "from src.metrics import ndcg_score\n",
    "from src.evaluation import get_pred_items, get_ndcg_score"
   ]
  },
  {
   "cell_type": "code",
   "execution_count": 2,
   "id": "e4a040b2-19d3-40c0-a7d8-76d7f83662db",
   "metadata": {},
   "outputs": [],
   "source": [
    "model = LGBModel()\n",
    "\n",
    "params = {\n",
    "    'objective': 'regression',\n",
    "    'metric': 'rmse',\n",
    "    'learning_rate': 0.01,\n",
    "    'num_leaves': 256,\n",
    "    'max_bin': 255,\n",
    "    'max_depth': -1,\n",
    "    'bagging_freq': 1,\n",
    "    'bagging_fraction': 0.9,\n",
    "    'feature_fraction': 0.9,\n",
    "}\n",
    "\n",
    "train_params = {\n",
    "    'num_boost_round':2000,\n",
    "    'early_stopping_rounds':50,\n",
    "    'verbose_eval':100,\n",
    "}"
   ]
  },
  {
   "cell_type": "code",
   "execution_count": 8,
   "id": "c623b6fd-393f-4d45-92dd-9a326a692bae",
   "metadata": {},
   "outputs": [
    {
     "name": "stderr",
     "output_type": "stream",
     "text": [
      "/opt/conda/envs/rapids/lib/python3.9/site-packages/lightgbm/engine.py:181: UserWarning: 'early_stopping_rounds' argument is deprecated and will be removed in a future release of LightGBM. Pass 'early_stopping()' callback via 'callbacks' argument instead.\n",
      "  _log_warning(\"'early_stopping_rounds' argument is deprecated and will be removed in a future release of LightGBM. \"\n",
      "/opt/conda/envs/rapids/lib/python3.9/site-packages/lightgbm/engine.py:239: UserWarning: 'verbose_eval' argument is deprecated and will be removed in a future release of LightGBM. Pass 'log_evaluation()' callback via 'callbacks' argument instead.\n",
      "  _log_warning(\"'verbose_eval' argument is deprecated and will be removed in a future release of LightGBM. \"\n"
     ]
    },
    {
     "name": "stdout",
     "output_type": "stream",
     "text": [
      "[LightGBM] [Warning] Auto-choosing row-wise multi-threading, the overhead of testing was 0.013483 seconds.\n",
      "You can set `force_row_wise=true` to remove the overhead.\n",
      "And if memory is not enough, you can set `force_col_wise=true`.\n",
      "[LightGBM] [Info] Total Bins 3052\n",
      "[LightGBM] [Info] Number of data points in the train set: 360330, number of used features: 12\n",
      "[LightGBM] [Info] Start training from score 0.101501\n",
      "Training until validation scores don't improve for 50 rounds\n",
      "[100]\ttraining's rmse: 0.381328\tvalid_1's rmse: 0.381328\n",
      "[200]\ttraining's rmse: 0.370675\tvalid_1's rmse: 0.370675\n",
      "[300]\ttraining's rmse: 0.364146\tvalid_1's rmse: 0.364146\n",
      "[400]\ttraining's rmse: 0.358971\tvalid_1's rmse: 0.358971\n",
      "[500]\ttraining's rmse: 0.354614\tvalid_1's rmse: 0.354614\n",
      "[600]\ttraining's rmse: 0.35086\tvalid_1's rmse: 0.35086\n",
      "[700]\ttraining's rmse: 0.347614\tvalid_1's rmse: 0.347614\n",
      "[800]\ttraining's rmse: 0.344779\tvalid_1's rmse: 0.344779\n",
      "[900]\ttraining's rmse: 0.34215\tvalid_1's rmse: 0.34215\n",
      "[1000]\ttraining's rmse: 0.339713\tvalid_1's rmse: 0.339713\n",
      "[1100]\ttraining's rmse: 0.337414\tvalid_1's rmse: 0.337414\n",
      "[1200]\ttraining's rmse: 0.335174\tvalid_1's rmse: 0.335174\n",
      "[1300]\ttraining's rmse: 0.332971\tvalid_1's rmse: 0.332971\n",
      "[1400]\ttraining's rmse: 0.330845\tvalid_1's rmse: 0.330845\n",
      "[1500]\ttraining's rmse: 0.328861\tvalid_1's rmse: 0.328861\n",
      "[1600]\ttraining's rmse: 0.326969\tvalid_1's rmse: 0.326969\n",
      "[1700]\ttraining's rmse: 0.32506\tvalid_1's rmse: 0.32506\n",
      "[1800]\ttraining's rmse: 0.323206\tvalid_1's rmse: 0.323206\n",
      "[1900]\ttraining's rmse: 0.321413\tvalid_1's rmse: 0.321413\n",
      "[2000]\ttraining's rmse: 0.319664\tvalid_1's rmse: 0.319664\n",
      "Did not meet early stopping. Best iteration is:\n",
      "[2000]\ttraining's rmse: 0.319664\tvalid_1's rmse: 0.319664\n"
     ]
    }
   ],
   "source": [
    "train = pd.read_csv('features_2017-04-16_t7_e7_n30.csv')\n",
    "valid = pd.read_csv('features_2017-04-23_t7_e7_n30.csv')\n",
    "\n",
    "train = train[train['rated']==1]\n",
    "valid = valid[valid['rated']==1]\n",
    "\n",
    "X_train = train.iloc[:, 4:]\n",
    "y_train = train['target']\n",
    "X_valid = valid.iloc[:, 4:]\n",
    "y_valid = valid['target']\n",
    "\n",
    "model.train(\n",
    "        params,\n",
    "        X_train,\n",
    "        y_train,\n",
    "        X_valid,\n",
    "        y_valid,\n",
    "        train_params=train_params\n",
    ")\n",
    "\n",
    "y_pred = model.predict(X_valid)"
   ]
  },
  {
   "cell_type": "code",
   "execution_count": 9,
   "id": "b91ffbe5-d2d6-47fe-bb49-738155058add",
   "metadata": {},
   "outputs": [],
   "source": [
    "date_th = '2017-04-23'\n",
    "train_period = 7\n",
    "eval_period = 7\n",
    "\n",
    "df = pd.read_csv('../data/processed/train.csv', parse_dates=['time_stamp'])"
   ]
  },
  {
   "cell_type": "code",
   "execution_count": 10,
   "id": "23ce2d5a-8040-465f-bbb9-d81805e5ff9c",
   "metadata": {},
   "outputs": [
    {
     "name": "stdout",
     "output_type": "stream",
     "text": [
      "ndcg: 0.2082\n"
     ]
    }
   ],
   "source": [
    "pred_items = get_pred_items(valid[['user_id', 'product_id']], y_pred )\n",
    "score = get_ndcg_score(\n",
    "    df,\n",
    "    pred_items,\n",
    "    date_th,\n",
    "    train_period,\n",
    "    eval_period,\n",
    ")\n",
    "print(f'ndcg: {score:.4f}')"
   ]
  },
  {
   "cell_type": "code",
   "execution_count": 6,
   "id": "7f87ce72-e6ad-4cb0-aa62-338548397293",
   "metadata": {},
   "outputs": [],
   "source": [
    "test = pd.read_csv('test_features_2017-04-30_t7_e7_n30.csv')\n",
    "X_test = test.iloc[:, 4:]\n",
    "y_pred = model.predict(X_test)\n",
    "pred_items = get_pred_items(test[['user_id', 'product_id']], y_pred )"
   ]
  },
  {
   "cell_type": "code",
   "execution_count": 7,
   "id": "e6bf31e8-4af6-4d0a-9e23-38ebd99bf724",
   "metadata": {},
   "outputs": [],
   "source": [
    "#submission = []\n",
    "#for user, items in pred_items.items():\n",
    "#    for i, item in enumerate(items):\n",
    "#        submission.append([user, item, i])\n",
    "#submission = pd.DataFrame(submission)\n",
    "#submission.to_csv('submission.tsv', sep='\\t', index=False, header=False)\n",
    "# LB: 0.071"
   ]
  },
  {
   "cell_type": "code",
   "execution_count": null,
   "id": "a53b07c5-7c62-4938-accd-39b77a7e8ae3",
   "metadata": {},
   "outputs": [],
   "source": []
  },
  {
   "cell_type": "code",
   "execution_count": null,
   "id": "6a2ac800-029d-4bc8-913f-e5a083d8d7f8",
   "metadata": {},
   "outputs": [],
   "source": []
  }
 ],
 "metadata": {
  "kernelspec": {
   "display_name": "Python 3 (ipykernel)",
   "language": "python",
   "name": "python3"
  },
  "language_info": {
   "codemirror_mode": {
    "name": "ipython",
    "version": 3
   },
   "file_extension": ".py",
   "mimetype": "text/x-python",
   "name": "python",
   "nbconvert_exporter": "python",
   "pygments_lexer": "ipython3",
   "version": "3.9.13"
  }
 },
 "nbformat": 4,
 "nbformat_minor": 5
}
