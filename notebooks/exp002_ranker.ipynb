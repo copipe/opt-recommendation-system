{
 "cells": [
  {
   "cell_type": "code",
   "execution_count": 1,
   "id": "52759845-dbe3-49e5-abfd-31620ad22f89",
   "metadata": {},
   "outputs": [],
   "source": [
    "%load_ext autoreload\n",
    "%autoreload 2\n",
    "\n",
    "import cudf\n",
    "import pandas as pd\n",
    "import numpy as np\n",
    "\n",
    "from src.ranker import LGBModel\n",
    "from src.utils import period_extraction, get_data_period\n",
    "from src.metrics import ndcg_score\n",
    "from src.evaluation import get_pred_items, get_ndcg_score"
   ]
  },
  {
   "cell_type": "code",
   "execution_count": 2,
   "id": "e4a040b2-19d3-40c0-a7d8-76d7f83662db",
   "metadata": {},
   "outputs": [],
   "source": [
    "model = LGBModel()\n",
    "\n",
    "params = {\n",
    "    'objective': 'regression',\n",
    "    'metric': 'rmse',\n",
    "    'learning_rate': 0.01,\n",
    "    'num_leaves': 256,\n",
    "    'max_bin': 255,\n",
    "    'max_depth': -1,\n",
    "    'bagging_freq': 1,\n",
    "    'bagging_fraction': 0.9,\n",
    "    'feature_fraction': 0.9,\n",
    "}\n",
    "\n",
    "train_params = {\n",
    "    'num_boost_round':2000,\n",
    "    'early_stopping_rounds':50,\n",
    "    'verbose_eval':100,\n",
    "}"
   ]
  },
  {
   "cell_type": "code",
   "execution_count": 3,
   "id": "c623b6fd-393f-4d45-92dd-9a326a692bae",
   "metadata": {},
   "outputs": [
    {
     "name": "stderr",
     "output_type": "stream",
     "text": [
      "/opt/conda/envs/rapids/lib/python3.9/site-packages/lightgbm/engine.py:181: UserWarning: 'early_stopping_rounds' argument is deprecated and will be removed in a future release of LightGBM. Pass 'early_stopping()' callback via 'callbacks' argument instead.\n",
      "  _log_warning(\"'early_stopping_rounds' argument is deprecated and will be removed in a future release of LightGBM. \"\n",
      "/opt/conda/envs/rapids/lib/python3.9/site-packages/lightgbm/engine.py:239: UserWarning: 'verbose_eval' argument is deprecated and will be removed in a future release of LightGBM. Pass 'log_evaluation()' callback via 'callbacks' argument instead.\n",
      "  _log_warning(\"'verbose_eval' argument is deprecated and will be removed in a future release of LightGBM. \"\n"
     ]
    },
    {
     "name": "stdout",
     "output_type": "stream",
     "text": [
      "[LightGBM] [Warning] Auto-choosing row-wise multi-threading, the overhead of testing was 0.008890 seconds.\n",
      "You can set `force_row_wise=true` to remove the overhead.\n",
      "And if memory is not enough, you can set `force_col_wise=true`.\n",
      "[LightGBM] [Info] Total Bins 3052\n",
      "[LightGBM] [Info] Number of data points in the train set: 375090, number of used features: 12\n",
      "[LightGBM] [Info] Start training from score 0.105495\n",
      "Training until validation scores don't improve for 50 rounds\n",
      "[100]\ttraining's rmse: 0.389367\tvalid_1's rmse: 0.390033\n",
      "[200]\ttraining's rmse: 0.378703\tvalid_1's rmse: 0.386588\n",
      "[300]\ttraining's rmse: 0.372149\tvalid_1's rmse: 0.386133\n",
      "Early stopping, best iteration is:\n",
      "[322]\ttraining's rmse: 0.370915\tvalid_1's rmse: 0.386127\n"
     ]
    }
   ],
   "source": [
    "train = pd.read_csv('features_2017-04-09_t7_e7_n30.csv')\n",
    "valid = pd.read_csv('features_2017-04-16_t7_e7_n30.csv')\n",
    "test = pd.read_csv('features_2017-04-23_t7_e7_n30.csv')\n",
    "pl_test = pd.read_csv('test_features_2017-04-30_t7_e7_n30.csv')\n",
    "\n",
    "train = train[train['rated']==1]\n",
    "valid = valid[valid['rated']==1]\n",
    "\n",
    "X_train = train.iloc[:, 4:]\n",
    "y_train = train['target']\n",
    "X_valid = valid.iloc[:, 4:]\n",
    "y_valid = valid['target']\n",
    "\n",
    "model.train(\n",
    "        params,\n",
    "        X_train,\n",
    "        y_train,\n",
    "        X_valid,\n",
    "        y_valid,\n",
    "        train_params=train_params\n",
    ")\n",
    "\n",
    "y_pred = model.predict(X_valid)"
   ]
  },
  {
   "cell_type": "code",
   "execution_count": 4,
   "id": "b91ffbe5-d2d6-47fe-bb49-738155058add",
   "metadata": {},
   "outputs": [],
   "source": [
    "date_th = '2017-04-23'\n",
    "train_period = 7\n",
    "eval_period = 7\n",
    "\n",
    "df = pd.read_csv('../data/processed/train.csv', parse_dates=['time_stamp'])"
   ]
  },
  {
   "cell_type": "code",
   "execution_count": 5,
   "id": "23ce2d5a-8040-465f-bbb9-d81805e5ff9c",
   "metadata": {},
   "outputs": [
    {
     "name": "stdout",
     "output_type": "stream",
     "text": [
      "ndcg: 0.2095\n"
     ]
    }
   ],
   "source": [
    "X_test = test.iloc[:, 4:]\n",
    "y_pred = model.predict(X_test)\n",
    "\n",
    "pred_items = get_pred_items(test[['user_id', 'product_id']], y_pred )\n",
    "score = get_ndcg_score(\n",
    "    df,\n",
    "    pred_items,\n",
    "    date_th,\n",
    "    train_period,\n",
    "    eval_period,\n",
    ")\n",
    "print(f'ndcg: {score:.4f}')"
   ]
  },
  {
   "cell_type": "code",
   "execution_count": 6,
   "id": "e6bf31e8-4af6-4d0a-9e23-38ebd99bf724",
   "metadata": {},
   "outputs": [],
   "source": [
    "test = pd.read_csv('test_features_2017-04-30_t7_e7_n30.csv')\n",
    "X_test = test.iloc[:, 4:]\n",
    "y_pred = model.predict(X_test)\n",
    "pred_items = get_pred_items(test[['user_id', 'product_id']], y_pred )\n",
    "\n",
    "\n",
    "submission = []\n",
    "for user, items in pred_items.items():\n",
    "    for i, item in enumerate(items):\n",
    "        submission.append([user, item, i])\n",
    "submission = pd.DataFrame(submission)\n",
    "submission.to_csv('submission.tsv', sep='\\t', index=False, header=False)"
   ]
  },
  {
   "cell_type": "code",
   "execution_count": null,
   "id": "8844190c-32dc-40fe-9a55-1061d218874f",
   "metadata": {},
   "outputs": [],
   "source": []
  },
  {
   "cell_type": "code",
   "execution_count": null,
   "id": "c239319a-9777-4ecd-9f78-e01770e7cf3a",
   "metadata": {},
   "outputs": [],
   "source": []
  },
  {
   "cell_type": "code",
   "execution_count": null,
   "id": "b76a6045-332e-482d-a84e-315b263b3b51",
   "metadata": {},
   "outputs": [],
   "source": []
  },
  {
   "cell_type": "code",
   "execution_count": null,
   "id": "8470f812-5b49-4a34-ab95-4ce340c6de46",
   "metadata": {},
   "outputs": [],
   "source": []
  }
 ],
 "metadata": {
  "kernelspec": {
   "display_name": "Python 3 (ipykernel)",
   "language": "python",
   "name": "python3"
  },
  "language_info": {
   "codemirror_mode": {
    "name": "ipython",
    "version": 3
   },
   "file_extension": ".py",
   "mimetype": "text/x-python",
   "name": "python",
   "nbconvert_exporter": "python",
   "pygments_lexer": "ipython3",
   "version": "3.9.13"
  }
 },
 "nbformat": 4,
 "nbformat_minor": 5
}
