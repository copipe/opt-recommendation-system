{
 "cells": [
  {
   "cell_type": "code",
   "execution_count": 1,
   "id": "52759845-dbe3-49e5-abfd-31620ad22f89",
   "metadata": {},
   "outputs": [],
   "source": [
    "%load_ext autoreload\n",
    "%autoreload 2\n",
    "\n",
    "import cudf\n",
    "import pandas as pd\n",
    "import numpy as np\n",
    "\n",
    "from src.ranker import LGBModel\n",
    "from src.utils import period_extraction, get_data_period\n",
    "from src.metrics import ndcg_score\n",
    "from src.evaluation import get_pred_items, get_ndcg_score"
   ]
  },
  {
   "cell_type": "code",
   "execution_count": 2,
   "id": "e4a040b2-19d3-40c0-a7d8-76d7f83662db",
   "metadata": {},
   "outputs": [],
   "source": [
    "model = LGBModel()\n",
    "\n",
    "params = {\n",
    "    'objective': 'regression',\n",
    "    'metric': 'rmse',\n",
    "    'learning_rate': 0.01,\n",
    "    'num_leaves': 256,\n",
    "    'max_bin': 255,\n",
    "    'max_depth': -1,\n",
    "    'bagging_freq': 1,\n",
    "    'bagging_fraction': 0.9,\n",
    "    'feature_fraction': 0.9,\n",
    "}\n",
    "\n",
    "train_params = {\n",
    "    'num_boost_round':2000,\n",
    "    'early_stopping_rounds':50,\n",
    "    'verbose_eval':100,\n",
    "}"
   ]
  },
  {
   "cell_type": "code",
   "execution_count": 3,
   "id": "c623b6fd-393f-4d45-92dd-9a326a692bae",
   "metadata": {},
   "outputs": [
    {
     "name": "stderr",
     "output_type": "stream",
     "text": [
      "/opt/conda/envs/rapids/lib/python3.9/site-packages/lightgbm/engine.py:181: UserWarning: 'early_stopping_rounds' argument is deprecated and will be removed in a future release of LightGBM. Pass 'early_stopping()' callback via 'callbacks' argument instead.\n",
      "  _log_warning(\"'early_stopping_rounds' argument is deprecated and will be removed in a future release of LightGBM. \"\n",
      "/opt/conda/envs/rapids/lib/python3.9/site-packages/lightgbm/engine.py:239: UserWarning: 'verbose_eval' argument is deprecated and will be removed in a future release of LightGBM. Pass 'log_evaluation()' callback via 'callbacks' argument instead.\n",
      "  _log_warning(\"'verbose_eval' argument is deprecated and will be removed in a future release of LightGBM. \"\n"
     ]
    },
    {
     "name": "stdout",
     "output_type": "stream",
     "text": [
      "[LightGBM] [Warning] Auto-choosing row-wise multi-threading, the overhead of testing was 0.008890 seconds.\n",
      "You can set `force_row_wise=true` to remove the overhead.\n",
      "And if memory is not enough, you can set `force_col_wise=true`.\n",
      "[LightGBM] [Info] Total Bins 3052\n",
      "[LightGBM] [Info] Number of data points in the train set: 375090, number of used features: 12\n",
      "[LightGBM] [Info] Start training from score 0.105495\n",
      "Training until validation scores don't improve for 50 rounds\n",
      "[100]\ttraining's rmse: 0.389367\tvalid_1's rmse: 0.390033\n",
      "[200]\ttraining's rmse: 0.378703\tvalid_1's rmse: 0.386588\n",
      "[300]\ttraining's rmse: 0.372149\tvalid_1's rmse: 0.386133\n",
      "Early stopping, best iteration is:\n",
      "[322]\ttraining's rmse: 0.370915\tvalid_1's rmse: 0.386127\n"
     ]
    }
   ],
   "source": [
    "train = pd.read_csv('features_2017-04-09_t7_e7_n30.csv')\n",
    "valid = pd.read_csv('features_2017-04-16_t7_e7_n30.csv')\n",
    "test = pd.read_csv('features_2017-04-23_t7_e7_n30.csv')\n",
    "pl_test = pd.read_csv('test_features_2017-04-30_t7_e7_n30.csv')\n",
    "\n",
    "train = train[train['rated']==1]\n",
    "valid = valid[valid['rated']==1]\n",
    "\n",
    "X_train = train.iloc[:, 4:]\n",
    "y_train = train['target']\n",
    "X_valid = valid.iloc[:, 4:]\n",
    "y_valid = valid['target']\n",
    "\n",
    "model.train(\n",
    "        params,\n",
    "        X_train,\n",
    "        y_train,\n",
    "        X_valid,\n",
    "        y_valid,\n",
    "        train_params=train_params\n",
    ")\n",
    "\n",
    "y_pred = model.predict(X_valid)"
   ]
  },
  {
   "cell_type": "code",
   "execution_count": 4,
   "id": "b91ffbe5-d2d6-47fe-bb49-738155058add",
   "metadata": {},
   "outputs": [],
   "source": [
    "date_th = '2017-04-23'\n",
    "train_period = 7\n",
    "eval_period = 7\n",
    "\n",
    "df = pd.read_csv('../data/processed/train.csv', parse_dates=['time_stamp'])"
   ]
  },
  {
   "cell_type": "code",
   "execution_count": 5,
   "id": "23ce2d5a-8040-465f-bbb9-d81805e5ff9c",
   "metadata": {},
   "outputs": [
    {
     "name": "stdout",
     "output_type": "stream",
     "text": [
      "ndcg: 0.2095\n"
     ]
    }
   ],
   "source": [
    "X_test = test.iloc[:, 4:]\n",
    "y_pred = model.predict(X_test)\n",
    "\n",
    "pred_items = get_pred_items(test[['user_id', 'product_id']], y_pred )\n",
    "score = get_ndcg_score(\n",
    "    df,\n",
    "    pred_items,\n",
    "    date_th,\n",
    "    train_period,\n",
    "    eval_period,\n",
    ")\n",
    "print(f'ndcg: {score:.4f}')"
   ]
  },
  {
   "cell_type": "code",
   "execution_count": 6,
   "id": "e6bf31e8-4af6-4d0a-9e23-38ebd99bf724",
   "metadata": {},
   "outputs": [],
   "source": [
    "test = pd.read_csv('test_features_2017-04-30_t7_e7_n30.csv')\n",
    "X_test = test.iloc[:, 4:]\n",
    "y_pred = model.predict(X_test)\n",
    "pred_items = get_pred_items(test[['user_id', 'product_id']], y_pred )\n",
    "\n",
    "\n",
    "submission = []\n",
    "for user, items in pred_items.items():\n",
    "    for i, item in enumerate(items):\n",
    "        submission.append([user, item, i])\n",
    "submission = pd.DataFrame(submission)\n",
    "submission.to_csv('submission.tsv', sep='\\t', index=False, header=False)"
   ]
  },
  {
   "cell_type": "code",
   "execution_count": null,
   "id": "ea3272f8-ea9c-4938-b858-fe112f3024f0",
   "metadata": {},
   "outputs": [],
   "source": []
  },
  {
   "cell_type": "code",
   "execution_count": null,
   "id": "d25df0e9-34f3-4971-8ea2-3bc9d0421aec",
   "metadata": {},
   "outputs": [],
   "source": []
  },
  {
   "cell_type": "code",
   "execution_count": null,
   "id": "a53e819d-dda0-4f01-8ab0-a25adb3b092e",
   "metadata": {},
   "outputs": [],
   "source": []
  },
  {
   "cell_type": "code",
   "execution_count": null,
   "id": "effd2281-6122-4707-9e8c-df191f0ad7b3",
   "metadata": {},
   "outputs": [],
   "source": []
  },
  {
   "cell_type": "code",
   "execution_count": null,
   "id": "0fbde69e-0d70-4fd6-92bd-e1e20dff6c89",
   "metadata": {},
   "outputs": [],
   "source": []
  },
  {
   "cell_type": "code",
   "execution_count": null,
   "id": "2f3c8071-bef0-4de3-9024-d8dccc2b4adc",
   "metadata": {},
   "outputs": [],
   "source": []
  },
  {
   "cell_type": "code",
   "execution_count": null,
   "id": "8844190c-32dc-40fe-9a55-1061d218874f",
   "metadata": {},
   "outputs": [],
   "source": []
  },
  {
   "cell_type": "code",
   "execution_count": null,
   "id": "c239319a-9777-4ecd-9f78-e01770e7cf3a",
   "metadata": {},
   "outputs": [],
   "source": []
  },
  {
   "cell_type": "code",
   "execution_count": null,
   "id": "b76a6045-332e-482d-a84e-315b263b3b51",
   "metadata": {},
   "outputs": [],
   "source": []
  },
  {
   "cell_type": "code",
   "execution_count": null,
   "id": "8470f812-5b49-4a34-ab95-4ce340c6de46",
   "metadata": {},
   "outputs": [],
   "source": []
  },
  {
   "cell_type": "code",
   "execution_count": 142,
   "id": "6a2ac800-029d-4bc8-913f-e5a083d8d7f8",
   "metadata": {},
   "outputs": [],
   "source": [
    "train = pd.read_csv('features_2017-04-09_t7_e7_n30.csv')\n",
    "valid = pd.read_csv('features_2017-04-16_t7_e7_n30.csv')\n",
    "test = pd.read_csv('features_2017-04-23_t7_e7_n30.csv')\n",
    "pl_test = pd.read_csv('test_features_2017-04-30_t7_e7_n30.csv')"
   ]
  },
  {
   "cell_type": "code",
   "execution_count": 143,
   "id": "c2ce4228-69d5-4fcc-bb7b-d611cfcd10c0",
   "metadata": {},
   "outputs": [],
   "source": [
    "train = train[train['rated']==1]\n",
    "valid = valid[valid['rated']==1]\n",
    "test = test[test['rated']==1]"
   ]
  },
  {
   "cell_type": "code",
   "execution_count": 144,
   "id": "69881eb7-81a8-4cca-9ddc-e8565080f380",
   "metadata": {},
   "outputs": [
    {
     "data": {
      "text/plain": [
       "((375090, 16), (360330, 16), (345030, 16), (347940, 16))"
      ]
     },
     "execution_count": 144,
     "metadata": {},
     "output_type": "execute_result"
    }
   ],
   "source": [
    "train.shape, valid.shape, test.shape, pl_test.shape"
   ]
  },
  {
   "cell_type": "code",
   "execution_count": 145,
   "id": "6be3c432-5656-4bda-bb6a-c4ba0e349fc3",
   "metadata": {},
   "outputs": [
    {
     "data": {
      "text/plain": [
       "16436"
      ]
     },
     "execution_count": 145,
     "metadata": {},
     "output_type": "execute_result"
    }
   ],
   "source": [
    "len(set(train['product_id']) & set(valid['product_id']))"
   ]
  },
  {
   "cell_type": "code",
   "execution_count": 146,
   "id": "5cbcd9dd-115b-4a43-9906-f9366cf89091",
   "metadata": {},
   "outputs": [
    {
     "data": {
      "text/plain": [
       "16401"
      ]
     },
     "execution_count": 146,
     "metadata": {},
     "output_type": "execute_result"
    }
   ],
   "source": [
    "len(set(valid['product_id']) & set(test['product_id']))"
   ]
  },
  {
   "cell_type": "code",
   "execution_count": 147,
   "id": "300edd73-86eb-4a0c-b734-df8d544723c2",
   "metadata": {},
   "outputs": [
    {
     "data": {
      "text/plain": [
       "18428"
      ]
     },
     "execution_count": 147,
     "metadata": {},
     "output_type": "execute_result"
    }
   ],
   "source": [
    "len(set(test['product_id']) & set(pl_test['product_id']))"
   ]
  },
  {
   "cell_type": "code",
   "execution_count": 148,
   "id": "9c90186e-40d5-49b2-aa95-587c5dec2d20",
   "metadata": {},
   "outputs": [
    {
     "data": {
      "text/plain": [
       "19683"
      ]
     },
     "execution_count": 148,
     "metadata": {},
     "output_type": "execute_result"
    }
   ],
   "source": [
    "len(set(valid['product_id']) & set(pl_test['product_id']))"
   ]
  },
  {
   "cell_type": "code",
   "execution_count": 149,
   "id": "2ccc1a2a-d7f1-4b31-a3a9-94faffa938f2",
   "metadata": {},
   "outputs": [
    {
     "name": "stdout",
     "output_type": "stream",
     "text": [
      "------------------------------\n",
      "# cv-score-r0.9_by_user\n",
      "- train: 0.51\n",
      "- valid: 0.50\n",
      "- test: 0.54\n",
      "- pl_test: 0.52\n",
      "------------------------------\n",
      "# click-score-r0.9_by_user\n",
      "- train: 0.41\n",
      "- valid: 0.38\n",
      "- test: 0.33\n",
      "- pl_test: 0.21\n",
      "------------------------------\n",
      "# pv-score-r0.9_by_user\n",
      "- train: 10.71\n",
      "- valid: 10.00\n",
      "- test: 10.50\n",
      "- pl_test: 12.20\n",
      "------------------------------\n",
      "# other-score-r0.9_by_user\n",
      "- train: 6.29\n",
      "- valid: 5.90\n",
      "- test: 6.34\n",
      "- pl_test: 6.19\n",
      "------------------------------\n",
      "# cv-score-r0.9_by_item\n",
      "- train: 327.89\n",
      "- valid: 288.21\n",
      "- test: 311.67\n",
      "- pl_test: 211.10\n",
      "------------------------------\n",
      "# click-score-r0.9_by_item\n",
      "- train: 509.22\n",
      "- valid: 501.23\n",
      "- test: 426.45\n",
      "- pl_test: 310.68\n",
      "------------------------------\n",
      "# pv-score-r0.9_by_item\n",
      "- train: 149.14\n",
      "- valid: 129.55\n",
      "- test: 126.28\n",
      "- pl_test: 83.43\n",
      "------------------------------\n",
      "# other-score-r0.9_by_item\n",
      "- train: 126.25\n",
      "- valid: 113.42\n",
      "- test: 98.67\n",
      "- pl_test: 80.22\n",
      "------------------------------\n",
      "# cv-score-r0.9_by_user-item\n",
      "- train: 0.02\n",
      "- valid: 0.01\n",
      "- test: 0.02\n",
      "- pl_test: 0.02\n",
      "------------------------------\n",
      "# click-score-r0.9_by_user-item\n",
      "- train: 0.01\n",
      "- valid: 0.01\n",
      "- test: 0.01\n",
      "- pl_test: 0.01\n",
      "------------------------------\n",
      "# pv-score-r0.9_by_user-item\n",
      "- train: 0.32\n",
      "- valid: 0.30\n",
      "- test: 0.31\n",
      "- pl_test: 0.35\n",
      "------------------------------\n",
      "# other-score-r0.9_by_user-item\n",
      "- train: 0.13\n",
      "- valid: 0.12\n",
      "- test: 0.12\n",
      "- pl_test: 0.11\n"
     ]
    }
   ],
   "source": [
    "for col in train.columns[4:]:\n",
    "    avg_train = train[col].mean()\n",
    "    avg_valid = valid[col].mean()\n",
    "    avg_test = test[col].mean()\n",
    "    avg_pl_test = pl_test[col].mean()\n",
    "    #avg_train = train[col].median()\n",
    "    #avg_valid = valid[col].median()\n",
    "    #avg_test = test[col].median()\n",
    "    #avg_pl_test = pl_test[col].median()\n",
    "    print('-' * 30)\n",
    "    print(f'# {col}')\n",
    "    print(f'- train: {avg_train:.2f}')\n",
    "    print(f'- valid: {avg_valid:.2f}')\n",
    "    print(f'- test: {avg_test:.2f}')\n",
    "    print(f'- pl_test: {avg_pl_test:.2f}')"
   ]
  },
  {
   "cell_type": "code",
   "execution_count": 3,
   "id": "3d49ea5e-7ee7-4d9b-8ffb-7f1ee69cd120",
   "metadata": {},
   "outputs": [],
   "source": [
    "date_th = '2017-04-30'\n",
    "train_period = 7\n",
    "eval_period = 7\n",
    "top_n = 30\n",
    "decay_rate = 0.9\n",
    "\n",
    "df = cudf.read_csv('../data/processed/train.csv', parse_dates=['time_stamp'])\n",
    "train_start_date, train_end_date, _, _ = get_data_period(date_th, train_period, eval_period)\n",
    "tmp1 = period_extraction(df, train_start_date, train_end_date)\n",
    "\n",
    "filename = f'test_pairs_{date_th}_t{train_period}_e{eval_period}_n{top_n}.csv'\n",
    "pairs1 = cudf.read_csv(filename)"
   ]
  },
  {
   "cell_type": "code",
   "execution_count": 4,
   "id": "f7eb62a0-4d94-419f-a916-b5b3de6da82e",
   "metadata": {},
   "outputs": [],
   "source": [
    "date_th = '2017-04-23'\n",
    "train_period = 7\n",
    "eval_period = 7\n",
    "top_n = 30\n",
    "decay_rate = 0.9\n",
    "\n",
    "df = cudf.read_csv('../data/processed/train.csv', parse_dates=['time_stamp'])\n",
    "train_start_date, train_end_date, _, _ = get_data_period(date_th, train_period, eval_period)\n",
    "tmp2 = period_extraction(df, train_start_date, train_end_date)\n",
    "\n",
    "filename = f'pairs_{date_th}_t{train_period}_e{eval_period}_n{top_n}.csv'\n",
    "pairs2 = cudf.read_csv(filename)\n",
    "pairs2 = pairs2[pairs2['rated']==1].reset_index(drop=True)"
   ]
  },
  {
   "cell_type": "code",
   "execution_count": 5,
   "id": "78934cdf-e275-464f-a9a1-d73c6849aafe",
   "metadata": {},
   "outputs": [],
   "source": [
    "date_th = '2017-04-16'\n",
    "train_period = 7\n",
    "eval_period = 7\n",
    "top_n = 30\n",
    "decay_rate = 0.9\n",
    "\n",
    "df = cudf.read_csv('../data/processed/train.csv', parse_dates=['time_stamp'])\n",
    "train_start_date, train_end_date, _, _ = get_data_period(date_th, train_period, eval_period)\n",
    "tmp3 = period_extraction(df, train_start_date, train_end_date)\n",
    "\n",
    "filename = f'pairs_{date_th}_t{train_period}_e{eval_period}_n{top_n}.csv'\n",
    "pairs3 = cudf.read_csv(filename)\n",
    "pairs3 = pairs3[pairs3['rated']==1].reset_index(drop=True)"
   ]
  },
  {
   "cell_type": "code",
   "execution_count": 65,
   "id": "8c4b5eb8-c5ab-46a0-8c69-216a4b8c9d20",
   "metadata": {},
   "outputs": [],
   "source": [
    "def f(tmp, pairs):\n",
    "    print(train_end_date)\n",
    "    tmp[\"day_diff\"] = (train_end_date - tmp[\"time_stamp\"]) / np.timedelta64(1, \"D\")\n",
    "    tmp[\"weight_decay\"] = tmp[\"day_diff\"].apply(lambda x: decay_rate**x)\n",
    "    action_list = [\n",
    "        (\"cv\", 3),\n",
    "        (\"click\", 2),\n",
    "        (\"pv\", 1),\n",
    "        (\"other\", 0),\n",
    "    ]\n",
    "    features = []\n",
    "    features2 = []\n",
    "    for event_name, event_type in action_list:\n",
    "        feature_name = f\"{event_name}-score-r{decay_rate}_by_item\"\n",
    "        tmp[\"score\"] = tmp[\"weight_decay\"] * (tmp[\"event_type\"] == event_type)\n",
    "        feature = tmp.groupby(\"product_id\")[\"score\"].sum().reset_index()\n",
    "        feature = feature.rename(columns={\"score\": feature_name})\n",
    "        #print(len(feature), feature[feature_name].mean())\n",
    "        features.append(feature)\n",
    "        \n",
    "        pairs = cudf.merge(pairs, feature, how=\"left\", on=\"product_id\")\n",
    "        print(len(pairs), pairs[feature_name].median())\n",
    "        #print(len(set(pairs['product_id'].to_pandas())), len(set(feature['product_id'].to_pandas())))\n",
    "        #print(pairs[feature_name].isna().sum())\n",
    "        #pairs[feature_name] = pairs[feature_name].fillna(0)\n",
    "        pairs = pairs.dropna()\n",
    "        features2.append(pairs[feature_name])\n",
    "        \n",
    "    return features, features2"
   ]
  },
  {
   "cell_type": "code",
   "execution_count": 66,
   "id": "0ac8c1df-de04-4e44-949c-c94aa2310b02",
   "metadata": {},
   "outputs": [
    {
     "name": "stdout",
     "output_type": "stream",
     "text": [
      "2017-04-30 00:00:00\n",
      "347940 1.7100529624038217\n",
      "322340 0.5113534833909036\n",
      "322340 63.88999795233936\n",
      "322340 24.245238884147092\n"
     ]
    },
    {
     "data": {
      "text/plain": [
       "(0.035919981556410636, 8.184859801334028)"
      ]
     },
     "execution_count": 66,
     "metadata": {},
     "output_type": "execute_result"
    }
   ],
   "source": [
    "i = 0\n",
    "\n",
    "date_th = '2017-04-30'\n",
    "train_period = 7\n",
    "eval_period = 7\n",
    "top_n = 30\n",
    "decay_rate = 1.0\n",
    "train_start_date, train_end_date, _, _ = get_data_period(date_th, train_period, eval_period)\n",
    "\n",
    "feats1, feats2 = f(tmp1, pairs1)\n",
    "feats1[i].iloc[:, 1].mean(), feats2[i].mean()"
   ]
  },
  {
   "cell_type": "code",
   "execution_count": 67,
   "id": "89656543-dd4a-4b2e-8420-96d6ef665eb5",
   "metadata": {},
   "outputs": [
    {
     "name": "stdout",
     "output_type": "stream",
     "text": [
      "2017-04-23 00:00:00\n",
      "345030 2.461259354711475\n",
      "345030 0.8372669157117523\n",
      "345030 100.05107928242064\n",
      "345030 34.48034622286071\n"
     ]
    },
    {
     "data": {
      "text/plain": [
       "(0.03348005852536735, 10.43461484784274)"
      ]
     },
     "execution_count": 67,
     "metadata": {},
     "output_type": "execute_result"
    }
   ],
   "source": [
    "date_th = '2017-04-23'\n",
    "train_period = 7\n",
    "eval_period = 7\n",
    "top_n = 30\n",
    "decay_rate = 1.0\n",
    "train_start_date, train_end_date, _, _ = get_data_period(date_th, train_period, eval_period)\n",
    "\n",
    "feats1, feats2 = f(tmp2, pairs2)\n",
    "feats1[i].iloc[:, 1].mean(), feats2[i].mean()"
   ]
  },
  {
   "cell_type": "code",
   "execution_count": 68,
   "id": "1d73a215-fed1-4a06-ac99-49d4a358e996",
   "metadata": {},
   "outputs": [
    {
     "name": "stdout",
     "output_type": "stream",
     "text": [
      "2017-04-16 00:00:00\n",
      "360330 2.7245515377237384\n",
      "360330 0.996718224353803\n",
      "360330 107.41211022673926\n",
      "360330 38.03065421812528\n"
     ]
    },
    {
     "data": {
      "text/plain": [
       "(0.033559931218916386, 9.672188229614793)"
      ]
     },
     "execution_count": 68,
     "metadata": {},
     "output_type": "execute_result"
    }
   ],
   "source": [
    "date_th = '2017-04-16'\n",
    "train_period = 7\n",
    "eval_period = 7\n",
    "top_n = 30\n",
    "decay_rate = 1.0\n",
    "train_start_date, train_end_date, _, _ = get_data_period(date_th, train_period, eval_period)\n",
    "\n",
    "feats1, feats2 = f(tmp3, pairs3)\n",
    "feats1[i].iloc[:, 1].mean(), feats2[i].mean()"
   ]
  },
  {
   "cell_type": "code",
   "execution_count": null,
   "id": "8138740e-d0aa-4cc5-a694-8cba090fac9a",
   "metadata": {},
   "outputs": [],
   "source": []
  },
  {
   "cell_type": "code",
   "execution_count": 115,
   "id": "14e45f2c-ea8c-48ef-8fe5-3afbee40696f",
   "metadata": {},
   "outputs": [
    {
     "data": {
      "text/plain": [
       "152621"
      ]
     },
     "execution_count": 115,
     "metadata": {},
     "output_type": "execute_result"
    }
   ],
   "source": [
    "tmp1['user_id'].nunique()"
   ]
  },
  {
   "cell_type": "code",
   "execution_count": 45,
   "id": "474bdc21-62d3-4f3a-b81b-ef451f541536",
   "metadata": {},
   "outputs": [
    {
     "data": {
      "text/plain": [
       "3101"
      ]
     },
     "execution_count": 45,
     "metadata": {},
     "output_type": "execute_result"
    }
   ],
   "source": [
    "tmp2['user_id'].nunique() - tmp1['user_id'].nunique()"
   ]
  },
  {
   "cell_type": "code",
   "execution_count": 17,
   "id": "63881079-87fc-449f-baf0-0b7821300a04",
   "metadata": {},
   "outputs": [
    {
     "data": {
      "text/plain": [
       "301838"
      ]
     },
     "execution_count": 17,
     "metadata": {},
     "output_type": "execute_result"
    }
   ],
   "source": [
    "tmp2[tmp2['event_type']>0]['product_id'].nunique()"
   ]
  },
  {
   "cell_type": "code",
   "execution_count": 18,
   "id": "dfc0f693-f26b-4318-b2f2-d60eaad5c287",
   "metadata": {},
   "outputs": [
    {
     "data": {
      "text/plain": [
       "303442"
      ]
     },
     "execution_count": 18,
     "metadata": {},
     "output_type": "execute_result"
    }
   ],
   "source": [
    "tmp1[tmp1['event_type']>0]['product_id'].nunique()"
   ]
  },
  {
   "cell_type": "code",
   "execution_count": 19,
   "id": "a812cb7b-096d-4c73-9c35-e4998fdec332",
   "metadata": {},
   "outputs": [
    {
     "data": {
      "text/plain": [
       "1468411"
      ]
     },
     "execution_count": 19,
     "metadata": {},
     "output_type": "execute_result"
    }
   ],
   "source": [
    "tmp1[tmp1['event_type']>0]['event_type'].sum()"
   ]
  },
  {
   "cell_type": "code",
   "execution_count": 20,
   "id": "1518ff8b-8801-4378-893d-4b34276ad3d0",
   "metadata": {},
   "outputs": [
    {
     "data": {
      "text/plain": [
       "1441715"
      ]
     },
     "execution_count": 20,
     "metadata": {},
     "output_type": "execute_result"
    }
   ],
   "source": [
    "tmp2[tmp2['event_type']>0]['event_type'].sum()"
   ]
  },
  {
   "cell_type": "code",
   "execution_count": 21,
   "id": "dc31f3fc-bcde-4bca-b275-bc661a5ce28d",
   "metadata": {},
   "outputs": [
    {
     "data": {
      "text/plain": [
       "133060"
      ]
     },
     "execution_count": 21,
     "metadata": {},
     "output_type": "execute_result"
    }
   ],
   "source": [
    "tmp1[tmp1['event_type']>0]['user_id'].nunique()"
   ]
  },
  {
   "cell_type": "code",
   "execution_count": 22,
   "id": "6644d0db-1e4c-4324-a1f7-4b41ca0a2d45",
   "metadata": {},
   "outputs": [
    {
     "data": {
      "text/plain": [
       "135798"
      ]
     },
     "execution_count": 22,
     "metadata": {},
     "output_type": "execute_result"
    }
   ],
   "source": [
    "tmp2[tmp2['event_type']>0]['user_id'].nunique()"
   ]
  },
  {
   "cell_type": "code",
   "execution_count": 23,
   "id": "d02b64a4-6937-4251-82ae-7142baebd798",
   "metadata": {},
   "outputs": [
    {
     "data": {
      "text/plain": [
       "(2313281, 6)"
      ]
     },
     "execution_count": 23,
     "metadata": {},
     "output_type": "execute_result"
    }
   ],
   "source": [
    "tmp1.shape"
   ]
  },
  {
   "cell_type": "code",
   "execution_count": 24,
   "id": "9e7161f4-3236-49ad-973b-f010744eff30",
   "metadata": {},
   "outputs": [
    {
     "data": {
      "text/plain": [
       "(2293937, 6)"
      ]
     },
     "execution_count": 24,
     "metadata": {},
     "output_type": "execute_result"
    }
   ],
   "source": [
    "tmp2.shape"
   ]
  },
  {
   "cell_type": "code",
   "execution_count": null,
   "id": "531c63f4-4926-478b-a64d-8e88feea487f",
   "metadata": {},
   "outputs": [],
   "source": []
  }
 ],
 "metadata": {
  "kernelspec": {
   "display_name": "Python 3 (ipykernel)",
   "language": "python",
   "name": "python3"
  },
  "language_info": {
   "codemirror_mode": {
    "name": "ipython",
    "version": 3
   },
   "file_extension": ".py",
   "mimetype": "text/x-python",
   "name": "python",
   "nbconvert_exporter": "python",
   "pygments_lexer": "ipython3",
   "version": "3.9.13"
  }
 },
 "nbformat": 4,
 "nbformat_minor": 5
}
