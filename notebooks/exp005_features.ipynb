{
 "cells": [
  {
   "cell_type": "code",
   "execution_count": 1,
   "id": "06df6739-97ce-4d27-afec-ee331a6ac1fa",
   "metadata": {},
   "outputs": [],
   "source": [
    "%load_ext autoreload\n",
    "%autoreload 2\n",
    "\n",
    "import matplotlib.pyplot as plt\n",
    "import numpy as np\n",
    "import pandas as pd\n",
    "import cudf\n",
    "from pathlib import Path\n",
    "\n",
    "from src.utils import get_data_period\n",
    "from src.features import UserActionScore, ItemActionScore, UserItemActionScore, ConcatFeatureTransformer\n",
    "from src.features import UserAttribute, ItemAttribute"
   ]
  },
  {
   "cell_type": "code",
   "execution_count": 2,
   "id": "b41ef144-b644-48f4-9842-1a877483f742",
   "metadata": {},
   "outputs": [],
   "source": [
    "TRAIN_PATH = '../data/processed/train.csv'\n",
    "EXP_NO = 'exp005'\n",
    "OUTPUT_DIR = Path(f'../data/{EXP_NO}')\n",
    "\n",
    "date_th_list = ['2017-04-16', '2017-04-23', '2017-04-30']\n",
    "train_flag_list = [True, True, False]\n",
    "train_period = 14\n",
    "eval_period = 7\n",
    "top_n = 100"
   ]
  },
  {
   "cell_type": "code",
   "execution_count": 3,
   "id": "3109fede-9331-4ce2-80e4-acf2500dd232",
   "metadata": {},
   "outputs": [
    {
     "name": "stdout",
     "output_type": "stream",
     "text": [
      "==================================================\n",
      "# date_th=2017-04-16, train_flag=True\n",
      "features.shape: (1201100, 31)\n",
      "==================================================\n",
      "# date_th=2017-04-23, train_flag=True\n",
      "features.shape: (1150100, 31)\n",
      "==================================================\n",
      "# date_th=2017-04-30, train_flag=False\n",
      "features.shape: (1159800, 31)\n"
     ]
    }
   ],
   "source": [
    "for date_th, train_flag in zip(date_th_list, train_flag_list):\n",
    "    print('='*50)\n",
    "    print(f'# date_th={date_th}, train_flag={train_flag}')\n",
    "    user_log = cudf.read_csv(TRAIN_PATH, parse_dates=['time_stamp'])\n",
    "    pairs_path = OUTPUT_DIR/f'pairs_{date_th}_t{train_period}_e{eval_period}_n{top_n}.csv'\n",
    "    pairs = cudf.read_csv(pairs_path)\n",
    "    if train_flag:\n",
    "        pairs = pairs[pairs['rated']==1].reset_index(drop=True)\n",
    "    \n",
    "    train_start_date, train_end_date, _, _ = get_data_period(date_th, train_period, eval_period)\n",
    "    \n",
    "    config_common = {\n",
    "        'start_date': train_start_date,\n",
    "        'end_date': train_end_date,\n",
    "    }\n",
    "    \n",
    "    config_decay = {'decay_rate':1.0, **config_common}\n",
    "    config_nondecay = {'decay_rate':0.8, **config_common}\n",
    "    \n",
    "    \n",
    "    config_itemattr = {\n",
    "        'item_cluster_path': '../model/item2vec/exp005/item_cluster.csv',\n",
    "        **config_common\n",
    "    }\n",
    "    \n",
    "    config_userattr = {\n",
    "        'model_dir': Path('../model/item2vec/exp005/'),\n",
    "        **config_common\n",
    "    }\n",
    "    \n",
    "    config_concat_feature_transformer = {\n",
    "        'feature_transformers': [\n",
    "            ItemAttribute(**config_itemattr),\n",
    "            UserAttribute(**config_userattr),\n",
    "            UserActionScore(**config_decay),\n",
    "            ItemActionScore(**config_decay),\n",
    "            UserItemActionScore(**config_decay),\n",
    "            UserActionScore(**config_nondecay),\n",
    "            ItemActionScore(**config_nondecay),\n",
    "            UserItemActionScore(**config_nondecay),\n",
    "        ],\n",
    "        **config_common,\n",
    "    }\n",
    "        \n",
    "    feature_transformer = ConcatFeatureTransformer(**config_concat_feature_transformer)\n",
    "    features = feature_transformer.fit_transform(user_log, pairs)\n",
    "    features = cudf.concat([pairs[['user_id', 'product_id', 'target', 'rated']], features], axis=1)\n",
    "    features.to_csv(OUTPUT_DIR/f'features_{date_th}_t{train_period}_e{eval_period}_n{top_n}.csv', index=False)\n",
    "    print(f'features.shape: {features.shape}')"
   ]
  },
  {
   "cell_type": "code",
   "execution_count": 4,
   "id": "2548b995-d898-4270-8b50-5db33db639c8",
   "metadata": {},
   "outputs": [
    {
     "data": {
      "text/plain": [
       "['user_id',\n",
       " 'product_id',\n",
       " 'target',\n",
       " 'rated',\n",
       " 'item_cluster_id',\n",
       " 'item_category',\n",
       " 'user_cluster_id',\n",
       " 'cv-score-r1.0_by_user',\n",
       " 'click-score-r1.0_by_user',\n",
       " 'pv-score-r1.0_by_user',\n",
       " 'other-score-r1.0_by_user',\n",
       " 'cv-score-r1.0_by_item',\n",
       " 'click-score-r1.0_by_item',\n",
       " 'pv-score-r1.0_by_item',\n",
       " 'other-score-r1.0_by_item',\n",
       " 'cv-score-r1.0_by_user-item',\n",
       " 'click-score-r1.0_by_user-item',\n",
       " 'pv-score-r1.0_by_user-item',\n",
       " 'other-score-r1.0_by_user-item',\n",
       " 'cv-score-r0.8_by_user',\n",
       " 'click-score-r0.8_by_user',\n",
       " 'pv-score-r0.8_by_user',\n",
       " 'other-score-r0.8_by_user',\n",
       " 'cv-score-r0.8_by_item',\n",
       " 'click-score-r0.8_by_item',\n",
       " 'pv-score-r0.8_by_item',\n",
       " 'other-score-r0.8_by_item',\n",
       " 'cv-score-r0.8_by_user-item',\n",
       " 'click-score-r0.8_by_user-item',\n",
       " 'pv-score-r0.8_by_user-item',\n",
       " 'other-score-r0.8_by_user-item']"
      ]
     },
     "execution_count": 4,
     "metadata": {},
     "output_type": "execute_result"
    }
   ],
   "source": [
    "list(features.columns)"
   ]
  },
  {
   "cell_type": "code",
   "execution_count": null,
   "id": "a098c3dc-533d-4f65-b9ec-3a9b11f13d96",
   "metadata": {},
   "outputs": [],
   "source": []
  },
  {
   "cell_type": "code",
   "execution_count": null,
   "id": "cec9fed4-f02d-4821-81cc-762a6ac430da",
   "metadata": {},
   "outputs": [],
   "source": []
  }
 ],
 "metadata": {
  "kernelspec": {
   "display_name": "Python 3 (ipykernel)",
   "language": "python",
   "name": "python3"
  },
  "language_info": {
   "codemirror_mode": {
    "name": "ipython",
    "version": 3
   },
   "file_extension": ".py",
   "mimetype": "text/x-python",
   "name": "python",
   "nbconvert_exporter": "python",
   "pygments_lexer": "ipython3",
   "version": "3.9.13"
  }
 },
 "nbformat": 4,
 "nbformat_minor": 5
}
